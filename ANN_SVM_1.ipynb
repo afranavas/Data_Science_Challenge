{
  "nbformat": 4,
  "nbformat_minor": 0,
  "metadata": {
    "colab": {
      "provenance": [],
      "authorship_tag": "ABX9TyMVBBrRFxSO+3CH1YgWT7e2",
      "include_colab_link": true
    },
    "kernelspec": {
      "name": "python3",
      "display_name": "Python 3"
    },
    "language_info": {
      "name": "python"
    }
  },
  "cells": [
    {
      "cell_type": "markdown",
      "metadata": {
        "id": "view-in-github",
        "colab_type": "text"
      },
      "source": [
        "<a href=\"https://colab.research.google.com/github/afranavas/Data_Science_Challenge/blob/main/ANN_SVM_1.ipynb\" target=\"_parent\"><img src=\"https://colab.research.google.com/assets/colab-badge.svg\" alt=\"Open In Colab\"/></a>"
      ]
    },
    {
      "cell_type": "code",
      "source": [
        "from google.colab import files\n",
        "import scipy.io as sio\n",
        "\n",
        "print(\"Upload the training data file:\")\n",
        "training_data_file = files.upload()\n",
        "print(\"Upload the testing data file:\")\n",
        "testing_data_file = files.upload()\n"
      ],
      "metadata": {
        "colab": {
          "base_uri": "https://localhost:8080/",
          "height": 160
        },
        "id": "vRUeE7sinO8n",
        "outputId": "cdf998bf-958e-44cc-ed8b-a229665467c7"
      },
      "execution_count": null,
      "outputs": [
        {
          "output_type": "stream",
          "name": "stdout",
          "text": [
            "Upload the training data file:\n"
          ]
        },
        {
          "output_type": "display_data",
          "data": {
            "text/plain": [
              "<IPython.core.display.HTML object>"
            ],
            "text/html": [
              "\n",
              "     <input type=\"file\" id=\"files-54b81d8d-7255-434e-8489-14ee02d30552\" name=\"files[]\" multiple disabled\n",
              "        style=\"border:none\" />\n",
              "     <output id=\"result-54b81d8d-7255-434e-8489-14ee02d30552\">\n",
              "      Upload widget is only available when the cell has been executed in the\n",
              "      current browser session. Please rerun this cell to enable.\n",
              "      </output>\n",
              "      <script>// Copyright 2017 Google LLC\n",
              "//\n",
              "// Licensed under the Apache License, Version 2.0 (the \"License\");\n",
              "// you may not use this file except in compliance with the License.\n",
              "// You may obtain a copy of the License at\n",
              "//\n",
              "//      http://www.apache.org/licenses/LICENSE-2.0\n",
              "//\n",
              "// Unless required by applicable law or agreed to in writing, software\n",
              "// distributed under the License is distributed on an \"AS IS\" BASIS,\n",
              "// WITHOUT WARRANTIES OR CONDITIONS OF ANY KIND, either express or implied.\n",
              "// See the License for the specific language governing permissions and\n",
              "// limitations under the License.\n",
              "\n",
              "/**\n",
              " * @fileoverview Helpers for google.colab Python module.\n",
              " */\n",
              "(function(scope) {\n",
              "function span(text, styleAttributes = {}) {\n",
              "  const element = document.createElement('span');\n",
              "  element.textContent = text;\n",
              "  for (const key of Object.keys(styleAttributes)) {\n",
              "    element.style[key] = styleAttributes[key];\n",
              "  }\n",
              "  return element;\n",
              "}\n",
              "\n",
              "// Max number of bytes which will be uploaded at a time.\n",
              "const MAX_PAYLOAD_SIZE = 100 * 1024;\n",
              "\n",
              "function _uploadFiles(inputId, outputId) {\n",
              "  const steps = uploadFilesStep(inputId, outputId);\n",
              "  const outputElement = document.getElementById(outputId);\n",
              "  // Cache steps on the outputElement to make it available for the next call\n",
              "  // to uploadFilesContinue from Python.\n",
              "  outputElement.steps = steps;\n",
              "\n",
              "  return _uploadFilesContinue(outputId);\n",
              "}\n",
              "\n",
              "// This is roughly an async generator (not supported in the browser yet),\n",
              "// where there are multiple asynchronous steps and the Python side is going\n",
              "// to poll for completion of each step.\n",
              "// This uses a Promise to block the python side on completion of each step,\n",
              "// then passes the result of the previous step as the input to the next step.\n",
              "function _uploadFilesContinue(outputId) {\n",
              "  const outputElement = document.getElementById(outputId);\n",
              "  const steps = outputElement.steps;\n",
              "\n",
              "  const next = steps.next(outputElement.lastPromiseValue);\n",
              "  return Promise.resolve(next.value.promise).then((value) => {\n",
              "    // Cache the last promise value to make it available to the next\n",
              "    // step of the generator.\n",
              "    outputElement.lastPromiseValue = value;\n",
              "    return next.value.response;\n",
              "  });\n",
              "}\n",
              "\n",
              "/**\n",
              " * Generator function which is called between each async step of the upload\n",
              " * process.\n",
              " * @param {string} inputId Element ID of the input file picker element.\n",
              " * @param {string} outputId Element ID of the output display.\n",
              " * @return {!Iterable<!Object>} Iterable of next steps.\n",
              " */\n",
              "function* uploadFilesStep(inputId, outputId) {\n",
              "  const inputElement = document.getElementById(inputId);\n",
              "  inputElement.disabled = false;\n",
              "\n",
              "  const outputElement = document.getElementById(outputId);\n",
              "  outputElement.innerHTML = '';\n",
              "\n",
              "  const pickedPromise = new Promise((resolve) => {\n",
              "    inputElement.addEventListener('change', (e) => {\n",
              "      resolve(e.target.files);\n",
              "    });\n",
              "  });\n",
              "\n",
              "  const cancel = document.createElement('button');\n",
              "  inputElement.parentElement.appendChild(cancel);\n",
              "  cancel.textContent = 'Cancel upload';\n",
              "  const cancelPromise = new Promise((resolve) => {\n",
              "    cancel.onclick = () => {\n",
              "      resolve(null);\n",
              "    };\n",
              "  });\n",
              "\n",
              "  // Wait for the user to pick the files.\n",
              "  const files = yield {\n",
              "    promise: Promise.race([pickedPromise, cancelPromise]),\n",
              "    response: {\n",
              "      action: 'starting',\n",
              "    }\n",
              "  };\n",
              "\n",
              "  cancel.remove();\n",
              "\n",
              "  // Disable the input element since further picks are not allowed.\n",
              "  inputElement.disabled = true;\n",
              "\n",
              "  if (!files) {\n",
              "    return {\n",
              "      response: {\n",
              "        action: 'complete',\n",
              "      }\n",
              "    };\n",
              "  }\n",
              "\n",
              "  for (const file of files) {\n",
              "    const li = document.createElement('li');\n",
              "    li.append(span(file.name, {fontWeight: 'bold'}));\n",
              "    li.append(span(\n",
              "        `(${file.type || 'n/a'}) - ${file.size} bytes, ` +\n",
              "        `last modified: ${\n",
              "            file.lastModifiedDate ? file.lastModifiedDate.toLocaleDateString() :\n",
              "                                    'n/a'} - `));\n",
              "    const percent = span('0% done');\n",
              "    li.appendChild(percent);\n",
              "\n",
              "    outputElement.appendChild(li);\n",
              "\n",
              "    const fileDataPromise = new Promise((resolve) => {\n",
              "      const reader = new FileReader();\n",
              "      reader.onload = (e) => {\n",
              "        resolve(e.target.result);\n",
              "      };\n",
              "      reader.readAsArrayBuffer(file);\n",
              "    });\n",
              "    // Wait for the data to be ready.\n",
              "    let fileData = yield {\n",
              "      promise: fileDataPromise,\n",
              "      response: {\n",
              "        action: 'continue',\n",
              "      }\n",
              "    };\n",
              "\n",
              "    // Use a chunked sending to avoid message size limits. See b/62115660.\n",
              "    let position = 0;\n",
              "    do {\n",
              "      const length = Math.min(fileData.byteLength - position, MAX_PAYLOAD_SIZE);\n",
              "      const chunk = new Uint8Array(fileData, position, length);\n",
              "      position += length;\n",
              "\n",
              "      const base64 = btoa(String.fromCharCode.apply(null, chunk));\n",
              "      yield {\n",
              "        response: {\n",
              "          action: 'append',\n",
              "          file: file.name,\n",
              "          data: base64,\n",
              "        },\n",
              "      };\n",
              "\n",
              "      let percentDone = fileData.byteLength === 0 ?\n",
              "          100 :\n",
              "          Math.round((position / fileData.byteLength) * 100);\n",
              "      percent.textContent = `${percentDone}% done`;\n",
              "\n",
              "    } while (position < fileData.byteLength);\n",
              "  }\n",
              "\n",
              "  // All done.\n",
              "  yield {\n",
              "    response: {\n",
              "      action: 'complete',\n",
              "    }\n",
              "  };\n",
              "}\n",
              "\n",
              "scope.google = scope.google || {};\n",
              "scope.google.colab = scope.google.colab || {};\n",
              "scope.google.colab._files = {\n",
              "  _uploadFiles,\n",
              "  _uploadFilesContinue,\n",
              "};\n",
              "})(self);\n",
              "</script> "
            ]
          },
          "metadata": {}
        },
        {
          "output_type": "stream",
          "name": "stdout",
          "text": [
            "Saving Training_Data.mat to Training_Data (1).mat\n",
            "Upload the testing data file:\n"
          ]
        },
        {
          "output_type": "display_data",
          "data": {
            "text/plain": [
              "<IPython.core.display.HTML object>"
            ],
            "text/html": [
              "\n",
              "     <input type=\"file\" id=\"files-68c2ceb1-367f-4099-be03-500e08058b09\" name=\"files[]\" multiple disabled\n",
              "        style=\"border:none\" />\n",
              "     <output id=\"result-68c2ceb1-367f-4099-be03-500e08058b09\">\n",
              "      Upload widget is only available when the cell has been executed in the\n",
              "      current browser session. Please rerun this cell to enable.\n",
              "      </output>\n",
              "      <script>// Copyright 2017 Google LLC\n",
              "//\n",
              "// Licensed under the Apache License, Version 2.0 (the \"License\");\n",
              "// you may not use this file except in compliance with the License.\n",
              "// You may obtain a copy of the License at\n",
              "//\n",
              "//      http://www.apache.org/licenses/LICENSE-2.0\n",
              "//\n",
              "// Unless required by applicable law or agreed to in writing, software\n",
              "// distributed under the License is distributed on an \"AS IS\" BASIS,\n",
              "// WITHOUT WARRANTIES OR CONDITIONS OF ANY KIND, either express or implied.\n",
              "// See the License for the specific language governing permissions and\n",
              "// limitations under the License.\n",
              "\n",
              "/**\n",
              " * @fileoverview Helpers for google.colab Python module.\n",
              " */\n",
              "(function(scope) {\n",
              "function span(text, styleAttributes = {}) {\n",
              "  const element = document.createElement('span');\n",
              "  element.textContent = text;\n",
              "  for (const key of Object.keys(styleAttributes)) {\n",
              "    element.style[key] = styleAttributes[key];\n",
              "  }\n",
              "  return element;\n",
              "}\n",
              "\n",
              "// Max number of bytes which will be uploaded at a time.\n",
              "const MAX_PAYLOAD_SIZE = 100 * 1024;\n",
              "\n",
              "function _uploadFiles(inputId, outputId) {\n",
              "  const steps = uploadFilesStep(inputId, outputId);\n",
              "  const outputElement = document.getElementById(outputId);\n",
              "  // Cache steps on the outputElement to make it available for the next call\n",
              "  // to uploadFilesContinue from Python.\n",
              "  outputElement.steps = steps;\n",
              "\n",
              "  return _uploadFilesContinue(outputId);\n",
              "}\n",
              "\n",
              "// This is roughly an async generator (not supported in the browser yet),\n",
              "// where there are multiple asynchronous steps and the Python side is going\n",
              "// to poll for completion of each step.\n",
              "// This uses a Promise to block the python side on completion of each step,\n",
              "// then passes the result of the previous step as the input to the next step.\n",
              "function _uploadFilesContinue(outputId) {\n",
              "  const outputElement = document.getElementById(outputId);\n",
              "  const steps = outputElement.steps;\n",
              "\n",
              "  const next = steps.next(outputElement.lastPromiseValue);\n",
              "  return Promise.resolve(next.value.promise).then((value) => {\n",
              "    // Cache the last promise value to make it available to the next\n",
              "    // step of the generator.\n",
              "    outputElement.lastPromiseValue = value;\n",
              "    return next.value.response;\n",
              "  });\n",
              "}\n",
              "\n",
              "/**\n",
              " * Generator function which is called between each async step of the upload\n",
              " * process.\n",
              " * @param {string} inputId Element ID of the input file picker element.\n",
              " * @param {string} outputId Element ID of the output display.\n",
              " * @return {!Iterable<!Object>} Iterable of next steps.\n",
              " */\n",
              "function* uploadFilesStep(inputId, outputId) {\n",
              "  const inputElement = document.getElementById(inputId);\n",
              "  inputElement.disabled = false;\n",
              "\n",
              "  const outputElement = document.getElementById(outputId);\n",
              "  outputElement.innerHTML = '';\n",
              "\n",
              "  const pickedPromise = new Promise((resolve) => {\n",
              "    inputElement.addEventListener('change', (e) => {\n",
              "      resolve(e.target.files);\n",
              "    });\n",
              "  });\n",
              "\n",
              "  const cancel = document.createElement('button');\n",
              "  inputElement.parentElement.appendChild(cancel);\n",
              "  cancel.textContent = 'Cancel upload';\n",
              "  const cancelPromise = new Promise((resolve) => {\n",
              "    cancel.onclick = () => {\n",
              "      resolve(null);\n",
              "    };\n",
              "  });\n",
              "\n",
              "  // Wait for the user to pick the files.\n",
              "  const files = yield {\n",
              "    promise: Promise.race([pickedPromise, cancelPromise]),\n",
              "    response: {\n",
              "      action: 'starting',\n",
              "    }\n",
              "  };\n",
              "\n",
              "  cancel.remove();\n",
              "\n",
              "  // Disable the input element since further picks are not allowed.\n",
              "  inputElement.disabled = true;\n",
              "\n",
              "  if (!files) {\n",
              "    return {\n",
              "      response: {\n",
              "        action: 'complete',\n",
              "      }\n",
              "    };\n",
              "  }\n",
              "\n",
              "  for (const file of files) {\n",
              "    const li = document.createElement('li');\n",
              "    li.append(span(file.name, {fontWeight: 'bold'}));\n",
              "    li.append(span(\n",
              "        `(${file.type || 'n/a'}) - ${file.size} bytes, ` +\n",
              "        `last modified: ${\n",
              "            file.lastModifiedDate ? file.lastModifiedDate.toLocaleDateString() :\n",
              "                                    'n/a'} - `));\n",
              "    const percent = span('0% done');\n",
              "    li.appendChild(percent);\n",
              "\n",
              "    outputElement.appendChild(li);\n",
              "\n",
              "    const fileDataPromise = new Promise((resolve) => {\n",
              "      const reader = new FileReader();\n",
              "      reader.onload = (e) => {\n",
              "        resolve(e.target.result);\n",
              "      };\n",
              "      reader.readAsArrayBuffer(file);\n",
              "    });\n",
              "    // Wait for the data to be ready.\n",
              "    let fileData = yield {\n",
              "      promise: fileDataPromise,\n",
              "      response: {\n",
              "        action: 'continue',\n",
              "      }\n",
              "    };\n",
              "\n",
              "    // Use a chunked sending to avoid message size limits. See b/62115660.\n",
              "    let position = 0;\n",
              "    do {\n",
              "      const length = Math.min(fileData.byteLength - position, MAX_PAYLOAD_SIZE);\n",
              "      const chunk = new Uint8Array(fileData, position, length);\n",
              "      position += length;\n",
              "\n",
              "      const base64 = btoa(String.fromCharCode.apply(null, chunk));\n",
              "      yield {\n",
              "        response: {\n",
              "          action: 'append',\n",
              "          file: file.name,\n",
              "          data: base64,\n",
              "        },\n",
              "      };\n",
              "\n",
              "      let percentDone = fileData.byteLength === 0 ?\n",
              "          100 :\n",
              "          Math.round((position / fileData.byteLength) * 100);\n",
              "      percent.textContent = `${percentDone}% done`;\n",
              "\n",
              "    } while (position < fileData.byteLength);\n",
              "  }\n",
              "\n",
              "  // All done.\n",
              "  yield {\n",
              "    response: {\n",
              "      action: 'complete',\n",
              "    }\n",
              "  };\n",
              "}\n",
              "\n",
              "scope.google = scope.google || {};\n",
              "scope.google.colab = scope.google.colab || {};\n",
              "scope.google.colab._files = {\n",
              "  _uploadFiles,\n",
              "  _uploadFilesContinue,\n",
              "};\n",
              "})(self);\n",
              "</script> "
            ]
          },
          "metadata": {}
        },
        {
          "output_type": "stream",
          "name": "stdout",
          "text": [
            "Saving Real_Test_Data.mat to Real_Test_Data (1).mat\n"
          ]
        }
      ]
    },
    {
      "cell_type": "code",
      "source": [
        "import scipy.io as sio\n",
        "import numpy as np\n",
        "import torch\n",
        "import torch.nn as nn\n",
        "import torch.optim as optim\n",
        "from sklearn.svm import SVR\n",
        "from sklearn.metrics import mean_squared_error\n",
        "import matplotlib.pyplot as plt"
      ],
      "metadata": {
        "id": "N2DWPi02ywn1"
      },
      "execution_count": null,
      "outputs": []
    },
    {
      "cell_type": "code",
      "source": [
        "train_data_path = 'Training_Data.mat'\n",
        "test_data_path = 'Real_Test_Data.mat'\n",
        "\n",
        "def load_data(path, variable_name):\n",
        "    data = sio.loadmat(path)\n",
        "    return data[variable_name]\n",
        "\n",
        "train_data = load_data(train_data_path, 'candidates')\n",
        "train_responses = load_data(train_data_path, 'responses')\n",
        "test_data = load_data(test_data_path, 'real_test_candidates')\n",
        "test_responses = load_data(test_data_path, 'real_test_responses')\n",
        "\n",
        "print(\"Training Data Type:\", type(train_data))\n",
        "print(\"Training Responses Type:\", type(train_responses))\n",
        "print(\"Test Data Type:\", type(test_data))\n",
        "print(\"Test Responses Type:\", type(test_responses))"
      ],
      "metadata": {
        "colab": {
          "base_uri": "https://localhost:8080/"
        },
        "id": "1RNVPt-P9wNa",
        "outputId": "6bf68965-a841-49c2-e518-a8c3f5d68ce4"
      },
      "execution_count": null,
      "outputs": [
        {
          "output_type": "stream",
          "name": "stdout",
          "text": [
            "Training Data Type: <class 'numpy.ndarray'>\n",
            "Training Responses Type: <class 'numpy.ndarray'>\n",
            "Test Data Type: <class 'numpy.ndarray'>\n",
            "Test Responses Type: <class 'numpy.ndarray'>\n"
          ]
        }
      ]
    },
    {
      "cell_type": "code",
      "source": [
        "# Flatten sequences in responses if needed\n",
        "train_responses = np.concatenate(train_responses).ravel()\n",
        "test_responses = np.concatenate(test_responses).ravel()\n",
        "\n",
        "# Ensure the data is in the correct format\n",
        "train_data = np.array(train_data, dtype=np.float32).reshape(-1, 3)\n",
        "train_responses = np.array(train_responses, dtype=np.float32).reshape(-1, 1)\n",
        "test_data = np.array(test_data, dtype=np.float32).reshape(-1, 3)\n",
        "test_responses = np.array(test_responses, dtype=np.float32).reshape(-1, 1)\n",
        "\n",
        "print(\"Training Data Shape:\", train_data.shape)\n",
        "print(\"Training Responses Shape:\", train_responses.shape)\n",
        "print(\"Test Data Shape:\", test_data.shape)\n",
        "print(\"Test Responses Shape:\", test_responses.shape)"
      ],
      "metadata": {
        "colab": {
          "base_uri": "https://localhost:8080/"
        },
        "id": "BrbUauKI-G2-",
        "outputId": "344b67cc-deea-4662-ca02-45719e1143c6"
      },
      "execution_count": null,
      "outputs": [
        {
          "output_type": "stream",
          "name": "stdout",
          "text": [
            "Training Data Shape: (64, 3)\n",
            "Training Responses Shape: (192192, 1)\n",
            "Test Data Shape: (36, 3)\n",
            "Test Responses Shape: (108108, 1)\n"
          ]
        }
      ]
    },
    {
      "cell_type": "code",
      "source": [
        "import torch\n",
        "import torch.nn as nn\n",
        "import torch.optim as optim\n",
        "\n",
        "class ANNModel(nn.Module):\n",
        "    def __init__(self, input_size, hidden_size, output_size):\n",
        "        super(ANNModel, self).__init__()\n",
        "        self.fc1 = nn.Linear(input_size, hidden_size)\n",
        "        self.relu = nn.ReLU()\n",
        "        self.fc2 = nn.Linear(hidden_size, output_size)\n",
        "\n",
        "    def forward(self, x):\n",
        "        out = self.fc1(x)\n",
        "        out = self.relu(out)\n",
        "        out = self.fc2(out)\n",
        "        return out\n",
        "\n",
        "train_data_tensor = torch.tensor(train_data, dtype=torch.float32)\n",
        "train_responses_tensor = torch.tensor(train_responses, dtype=torch.float32).flatten()\n",
        "test_data_tensor = torch.tensor(test_data, dtype=torch.float32)\n",
        "test_responses_tensor = torch.tensor(test_responses, dtype=torch.float32).flatten()\n",
        "\n",
        "input_size = train_data_tensor.shape[1]\n",
        "hidden_size = 128\n",
        "output_size = 1  # Single output for S11 parameter\n",
        "ann_model = ANNModel(input_size, hidden_size, output_size)\n",
        "\n",
        "criterion = nn.MSELoss()\n",
        "optimizer = optim.Adam(ann_model.parameters(), lr=0.001)\n"
      ],
      "metadata": {
        "id": "UPbMidDa-Im6"
      },
      "execution_count": null,
      "outputs": []
    },
    {
      "cell_type": "code",
      "source": [
        "num_epochs = 10000\n",
        "batch_size = 64  # Define a batch size\n",
        "\n",
        "for epoch in range(num_epochs):\n",
        "    for i in range(0, train_data_tensor.size(0), batch_size):\n",
        "        batch_data = train_data_tensor[i: i + batch_size]\n",
        "        batch_responses = train_responses_tensor[i: i + batch_size]\n",
        "\n",
        "        ann_model.train()\n",
        "        outputs = ann_model(batch_data)\n",
        "        loss = criterion(outputs, batch_responses.unsqueeze(1))  # Calculate loss for the batch\n",
        "        optimizer.zero_grad()\n",
        "        loss.backward()\n",
        "        optimizer.step()\n",
        "\n",
        "    if (epoch+1) % 100 == 0:\n",
        "        print(f'Epoch [{epoch+1}/{num_epochs}], Loss: {loss.item():.4f}')"
      ],
      "metadata": {
        "colab": {
          "base_uri": "https://localhost:8080/"
        },
        "id": "nlRbsdNMCPMl",
        "outputId": "a78353ba-8579-4293-a47b-91cada69e507"
      },
      "execution_count": null,
      "outputs": [
        {
          "output_type": "stream",
          "name": "stdout",
          "text": [
            "Epoch [100/10000], Loss: 4.1911\n",
            "Epoch [200/10000], Loss: 4.1720\n",
            "Epoch [300/10000], Loss: 4.1548\n",
            "Epoch [400/10000], Loss: 4.1373\n",
            "Epoch [500/10000], Loss: 4.1225\n",
            "Epoch [600/10000], Loss: 4.1063\n",
            "Epoch [700/10000], Loss: 4.0922\n",
            "Epoch [800/10000], Loss: 4.0796\n",
            "Epoch [900/10000], Loss: 4.0666\n",
            "Epoch [1000/10000], Loss: 4.0589\n",
            "Epoch [1100/10000], Loss: 4.0452\n",
            "Epoch [1200/10000], Loss: 4.0354\n",
            "Epoch [1300/10000], Loss: 4.0258\n",
            "Epoch [1400/10000], Loss: 4.0185\n",
            "Epoch [1500/10000], Loss: 4.0097\n",
            "Epoch [1600/10000], Loss: 4.0003\n",
            "Epoch [1700/10000], Loss: 3.9934\n",
            "Epoch [1800/10000], Loss: 3.9863\n",
            "Epoch [1900/10000], Loss: 3.9804\n",
            "Epoch [2000/10000], Loss: 3.9710\n",
            "Epoch [2100/10000], Loss: 3.9644\n",
            "Epoch [2200/10000], Loss: 3.9585\n",
            "Epoch [2300/10000], Loss: 3.9541\n",
            "Epoch [2400/10000], Loss: 3.9485\n",
            "Epoch [2500/10000], Loss: 3.9414\n",
            "Epoch [2600/10000], Loss: 3.9366\n",
            "Epoch [2700/10000], Loss: 3.9317\n",
            "Epoch [2800/10000], Loss: 3.9285\n",
            "Epoch [2900/10000], Loss: 3.9251\n",
            "Epoch [3000/10000], Loss: 3.9154\n",
            "Epoch [3100/10000], Loss: 3.9116\n",
            "Epoch [3200/10000], Loss: 3.9064\n",
            "Epoch [3300/10000], Loss: 3.8905\n",
            "Epoch [3400/10000], Loss: 3.8825\n",
            "Epoch [3500/10000], Loss: 3.8752\n",
            "Epoch [3600/10000], Loss: 3.8665\n",
            "Epoch [3700/10000], Loss: 3.8569\n",
            "Epoch [3800/10000], Loss: 3.8497\n",
            "Epoch [3900/10000], Loss: 3.8430\n",
            "Epoch [4000/10000], Loss: 3.8327\n",
            "Epoch [4100/10000], Loss: 3.8244\n",
            "Epoch [4200/10000], Loss: 3.8170\n",
            "Epoch [4300/10000], Loss: 3.8068\n",
            "Epoch [4400/10000], Loss: 3.7990\n",
            "Epoch [4500/10000], Loss: 3.7894\n",
            "Epoch [4600/10000], Loss: 3.7813\n",
            "Epoch [4700/10000], Loss: 3.7740\n",
            "Epoch [4800/10000], Loss: 3.7639\n",
            "Epoch [4900/10000], Loss: 3.7586\n",
            "Epoch [5000/10000], Loss: 3.7483\n",
            "Epoch [5100/10000], Loss: 3.7400\n",
            "Epoch [5200/10000], Loss: 3.7337\n",
            "Epoch [5300/10000], Loss: 3.7261\n",
            "Epoch [5400/10000], Loss: 3.7227\n",
            "Epoch [5500/10000], Loss: 3.7108\n",
            "Epoch [5600/10000], Loss: 3.7048\n",
            "Epoch [5700/10000], Loss: 3.6988\n",
            "Epoch [5800/10000], Loss: 3.6923\n",
            "Epoch [5900/10000], Loss: 3.6849\n",
            "Epoch [6000/10000], Loss: 3.6788\n",
            "Epoch [6100/10000], Loss: 3.6731\n",
            "Epoch [6200/10000], Loss: 3.6665\n",
            "Epoch [6300/10000], Loss: 3.6658\n",
            "Epoch [6400/10000], Loss: 3.6600\n",
            "Epoch [6500/10000], Loss: 3.6484\n",
            "Epoch [6600/10000], Loss: 3.6392\n",
            "Epoch [6700/10000], Loss: 3.6262\n",
            "Epoch [6800/10000], Loss: 3.6125\n",
            "Epoch [6900/10000], Loss: 3.6065\n",
            "Epoch [7000/10000], Loss: 3.6006\n",
            "Epoch [7100/10000], Loss: 3.5923\n",
            "Epoch [7200/10000], Loss: 3.5875\n",
            "Epoch [7300/10000], Loss: 3.5805\n",
            "Epoch [7400/10000], Loss: 3.5790\n",
            "Epoch [7500/10000], Loss: 3.5700\n",
            "Epoch [7600/10000], Loss: 3.5665\n",
            "Epoch [7700/10000], Loss: 3.5608\n",
            "Epoch [7800/10000], Loss: 3.5574\n",
            "Epoch [7900/10000], Loss: 3.5517\n",
            "Epoch [8000/10000], Loss: 3.5476\n",
            "Epoch [8100/10000], Loss: 3.5452\n",
            "Epoch [8200/10000], Loss: 3.5375\n",
            "Epoch [8300/10000], Loss: 3.5373\n",
            "Epoch [8400/10000], Loss: 3.5287\n",
            "Epoch [8500/10000], Loss: 3.5247\n",
            "Epoch [8600/10000], Loss: 3.5217\n",
            "Epoch [8700/10000], Loss: 3.5166\n",
            "Epoch [8800/10000], Loss: 3.5144\n",
            "Epoch [8900/10000], Loss: 3.5101\n",
            "Epoch [9000/10000], Loss: 3.5123\n",
            "Epoch [9100/10000], Loss: 3.5039\n",
            "Epoch [9200/10000], Loss: 3.4567\n",
            "Epoch [9300/10000], Loss: 3.4304\n",
            "Epoch [9400/10000], Loss: 3.4149\n",
            "Epoch [9500/10000], Loss: 3.4033\n",
            "Epoch [9600/10000], Loss: 3.3972\n",
            "Epoch [9700/10000], Loss: 3.3895\n",
            "Epoch [9800/10000], Loss: 3.3869\n",
            "Epoch [9900/10000], Loss: 3.3762\n",
            "Epoch [10000/10000], Loss: 3.3693\n"
          ]
        }
      ]
    },
    {
      "cell_type": "code",
      "source": [
        "ann_model.eval()\n",
        "with torch.no_grad():\n",
        "    train_features = ann_model(train_data_tensor).numpy()\n",
        "    test_features = ann_model(test_data_tensor).numpy()\n",
        "\n",
        "print(f\"Shape of train_features: {train_features.shape}\")\n",
        "print(f\"Shape of test_features: {test_features.shape}\")\n",
        "\n"
      ],
      "metadata": {
        "colab": {
          "base_uri": "https://localhost:8080/"
        },
        "id": "-sVqJeK5_Dw6",
        "outputId": "a9826368-4657-42e0-86ca-b16e95b7b5f5"
      },
      "execution_count": null,
      "outputs": [
        {
          "output_type": "stream",
          "name": "stdout",
          "text": [
            "Shape of train_features: (64, 1)\n",
            "Shape of test_features: (36, 1)\n"
          ]
        }
      ]
    },
    {
      "cell_type": "code",
      "source": [
        "if train_features.shape[0] != train_data_tensor.shape[0]:\n",
        "    raise ValueError(f\"Mismatch in training features and data samples: {train_features.shape[0]} vs {train_data_tensor.shape[0]}\")\n",
        "if test_features.shape[0] != test_data_tensor.shape[0]:\n",
        "    raise ValueError(f\"Mismatch in test features and data samples: {test_features.shape[0]} vs {test_data_tensor.shape[0]}\")\n"
      ],
      "metadata": {
        "id": "nKLa9wdaGSaX"
      },
      "execution_count": null,
      "outputs": []
    },
    {
      "cell_type": "code",
      "source": [
        "from sklearn.preprocessing import StandardScaler\n",
        "scaler = StandardScaler()\n",
        "train_features = scaler.fit_transform(train_features)\n",
        "test_features = scaler.transform(test_features)\n",
        "\n",
        "train_responses_flat = train_responses_tensor.numpy().flatten()[:64]\n",
        "test_responses_flat = test_responses_tensor.numpy().flatten()[:36]\n",
        "\n",
        "print(f\"Shape of train_responses_flat: {train_responses_flat.shape}\")\n",
        "print(f\"Shape of test_responses_flat: {test_responses_flat.shape}\")"
      ],
      "metadata": {
        "colab": {
          "base_uri": "https://localhost:8080/"
        },
        "id": "VEDIl31aGuov",
        "outputId": "2e809a5f-b44a-4d39-a5cc-03fdac809c02"
      },
      "execution_count": null,
      "outputs": [
        {
          "output_type": "stream",
          "name": "stdout",
          "text": [
            "Shape of train_responses_flat: (64,)\n",
            "Shape of test_responses_flat: (36,)\n"
          ]
        }
      ]
    },
    {
      "cell_type": "code",
      "source": [
        "if train_features.shape[0] != train_responses_flat.shape[0]:\n",
        "    raise ValueError(f\"Inconsistent number of samples in training data: {train_features.shape[0]} vs {train_responses_flat.shape[0]}\")\n",
        "if test_features.shape[0] != test_responses_flat.shape[0]:\n",
        "    raise ValueError(f\"Inconsistent number of samples in test data: {test_features.shape[0]} vs {test_responses_flat.shape[0]}\")\n"
      ],
      "metadata": {
        "id": "G0Xbe22pG6AB"
      },
      "execution_count": null,
      "outputs": []
    },
    {
      "cell_type": "code",
      "source": [
        "svm_model = SVR(kernel='rbf')\n",
        "svm_model.fit(train_features, train_responses_flat)\n",
        "predicted_responses = svm_model.predict(test_features)\n",
        "\n",
        "print(\"Prediction completed successfully.\")"
      ],
      "metadata": {
        "colab": {
          "base_uri": "https://localhost:8080/"
        },
        "id": "KUmvCGLXHBwx",
        "outputId": "b11d29e6-a9af-4ca1-dd1f-9f53e4114cab"
      },
      "execution_count": null,
      "outputs": [
        {
          "output_type": "stream",
          "name": "stdout",
          "text": [
            "Prediction completed successfully.\n"
          ]
        }
      ]
    },
    {
      "cell_type": "code",
      "source": [
        "import matplotlib.pyplot as plt\n",
        "from sklearn.metrics import mean_squared_error\n",
        "\n",
        "plt.figure(figsize=(10, 5))\n",
        "plt.plot(test_responses_flat, label='Actual S11')\n",
        "plt.plot(predicted_responses, label='Predicted S11')\n",
        "plt.xlabel('Index')\n",
        "plt.ylabel('S11 Parameter')\n",
        "plt.title('Actual vs Predicted S11 Parameter')\n",
        "plt.legend()\n",
        "plt.show()\n",
        "\n",
        "mse = mean_squared_error(test_responses_flat, predicted_responses)\n",
        "print(f'Mean Squared Error: {mse}')\n"
      ],
      "metadata": {
        "colab": {
          "base_uri": "https://localhost:8080/",
          "height": 504
        },
        "id": "nLG7iJSkBeUy",
        "outputId": "25f3ab88-14c1-47f0-c613-cf2ab9ce33ab"
      },
      "execution_count": null,
      "outputs": [
        {
          "output_type": "display_data",
          "data": {
            "text/plain": [
              "<Figure size 1000x500 with 1 Axes>"
            ],
            "image/png": "[encoded data removed]"
          },
          "metadata": {}
        },
        {
          "output_type": "stream",
          "name": "stdout",
          "text": [
            "Mean Squared Error: 4.696853499791515\n"
          ]
        }
      ]
    },
    {
      "cell_type": "code",
      "source": [
        "# Specify the path in Google Drive\n",
        "path = '/my-drive/ANN_plot.png'\n",
        "\n",
        "# Save the plot\n",
        "plt.savefig(path)\n",
        "\n",
        "print(f\"Plot saved to {path}\")"
      ],
      "metadata": {
        "id": "tmYm8XzTLxi3"
      },
      "execution_count": null,
      "outputs": []
    }
  ]
}